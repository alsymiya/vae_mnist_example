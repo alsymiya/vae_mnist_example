{
 "cells": [
  {
   "cell_type": "code",
   "execution_count": 1,
   "metadata": {},
   "outputs": [],
   "source": [
    "import numpy as np #\n",
    "import struct # read file. \n",
    "#import gzip  # used to read gz file. But I prefer using struct. \n",
    "from skimage.transform import rescale # rescale image \n",
    "import matplotlib.pyplot as plt # \n",
    "import numpy as np\n",
    "%matplotlib inline\n",
    "%config InlineBackend.figure_format = 'svg'"
   ]
  },
  {
   "cell_type": "markdown",
   "metadata": {},
   "source": [
    "You can download the .gz files on: \n",
    "\n",
    "http://yann.lecun.com/exdb/mnist/\n",
    "\n",
    "And unzip the files, and you can read them like shown below. \n",
    "\n",
    "You can also use keras for MNIST dataset. "
   ]
  },
  {
   "cell_type": "code",
   "execution_count": 2,
   "metadata": {},
   "outputs": [
    {
     "name": "stdout",
     "output_type": "stream",
     "text": [
      "(10000, 28, 28)\n",
      "(64, 64)\n"
     ]
    },
    {
     "data": {
      "image/png": "[encoded data removed]",
      "text/plain": [
       "<Figure size 432x288 with 1 Axes>"
      ]
     },
     "metadata": {
      "needs_background": "light"
     },
     "output_type": "display_data"
    }
   ],
   "source": [
    "# read locally, for example. \n",
    "imgfile  = 't10k-images.idx3-ubyte'\n",
    "\n",
    "with open(imgfile,'rb') as f:\n",
    "    magic, size = struct.unpack(\">II\", f.read(8))\n",
    "    nrows, ncols = struct.unpack(\">II\", f.read(8))\n",
    "    data = np.fromfile(f, dtype=np.dtype(np.uint8).newbyteorder('>'))\n",
    "    data = data.reshape((size, nrows, ncols))\n",
    "\n",
    "print(data.shape)\n",
    "\n",
    "# Show one of the rescaled images. (28,28) -> (64,64)\n",
    "image = np.asarray(data[5]).squeeze()\n",
    "image = rescale(image,2.3)\n",
    "print(image.shape)\n",
    "plt.imshow(image) \n",
    "plt.show()\n",
    "del data\n",
    "\n",
    "# Numpy/np is used commonly when you deal with data science in python language, \n",
    "# you can use numpy array data structure to save arrays using \n",
    "# np.save(filename, variable)\n",
    "# You can load them using \n",
    "# ny.load(filename)"
   ]
  },
  {
   "cell_type": "code",
   "execution_count": 3,
   "metadata": {},
   "outputs": [
    {
     "name": "stdout",
     "output_type": "stream",
     "text": [
      "(60000, 28, 28) (60000,) (10000, 28, 28) (10000,)\n"
     ]
    }
   ],
   "source": [
    "from keras.datasets import mnist\n",
    "(train_X, train_y), (test_X, test_y) = mnist.load_data()\n",
    "\n",
    "print(train_X.shape, train_y.shape, test_X.shape, test_y.shape)"
   ]
  },
  {
   "cell_type": "code",
   "execution_count": 4,
   "metadata": {},
   "outputs": [],
   "source": [
    "# Creating tags with VAE\n",
    "import torch\n",
    "import torch.nn as nn                          # Class that implements a model (such as a Neural Network)\n",
    "import torch.nn.functional as functional       # import torch.nn.functional as F\n",
    "\n",
    "# MNIST dataset can be well predicted with other methods. You don't need a very complex neural network. \n",
    "# But we are using pytorch, so let's do it with neural network. "
   ]
  },
  {
   "cell_type": "code",
   "execution_count": 5,
   "metadata": {},
   "outputs": [
    {
     "name": "stdout",
     "output_type": "stream",
     "text": [
      "cuda:0\n",
      "Graphics card device NVIDIA GeForce RTX 3070\n",
      "Allocated 0\n"
     ]
    },
    {
     "name": "stderr",
     "output_type": "stream",
     "text": [
      "C:\\ProgramData\\Anaconda3\\envs\\dms\\lib\\site-packages\\torch\\cuda\\memory.py:386: FutureWarning: torch.cuda.memory_cached has been renamed to torch.cuda.memory_reserved\n",
      "  FutureWarning)\n"
     ]
    },
    {
     "name": "stdout",
     "output_type": "stream",
     "text": [
      "Cached 0\n"
     ]
    }
   ],
   "source": [
    "# set up a structure to read all files. \n",
    "# Set up the NN\n",
    "# Set to GPU if available for NN\n",
    "device = torch.device(\"cuda:0\" if torch.cuda.is_available() else \"cpu\")\n",
    "print(device)\n",
    "\n",
    "# Set up Transformations (0-1 Scaling only)\n",
    "#t = transforms.Compose([transforms.ToTensor()])\n",
    "\n",
    "print('Graphics card device', torch.cuda.get_device_name(0))\n",
    "print('Allocated', torch.cuda.memory_allocated())\n",
    "print('Cached', torch.cuda.memory_cached())\n",
    "\n",
    "\n",
    "\"\"\"\n",
    "class Flatten(nn.Module):\n",
    "    def forward(self, input):\n",
    "        return input.view(input.size(0), -1) #sample-wise divide\n",
    "\n",
    "\n",
    "class Reshape(nn.Module):\n",
    "    def __init__(self, shape = (1, 64, 64)):\n",
    "        super(Reshape, self).__init__()\n",
    "        self.shape = shape\n",
    "    \n",
    "    def forward(self, input):\n",
    "        return input.view(input.size(0), self.shape[0], self.shape[1], self.shape[2])\n",
    "\"\"\"\n",
    "\n",
    "class VAE(nn.Module):\n",
    "    def __init__(self):\n",
    "        super(VAE, self).__init__()\n",
    "\n",
    "        \"\"\"\n",
    "        self.encoder = nn.Sequential(\n",
    "            # half padding #batch size, channel, height, width\n",
    "            # b 64 64 1  -> b 64 64 32\n",
    "            nn.Conv2d(1, 32, kernel_size=(11,11), stride=(1,1), padding = (5,5)),\n",
    "            nn.ReLU(),\n",
    "            # b 64 64 32 -> b 32 32 32 \n",
    "            nn.MaxPool2d(kernel_size = (2,2), stride = (2,2)),\n",
    "            # b 32 32 32 -> b 32 32 32\n",
    "            nn.Conv2d(32, 64, kernel_size=(5,5), stride=(1,1), padding = (2,2)),\n",
    "            nn.ReLU(),\n",
    "            # b 32 32 64 -> b 16 16 64 \n",
    "            nn.MaxPool2d(kernel_size = (2,2), stride = (2,2)),\n",
    "            # b 16 16 64 -> b 16 16 128\n",
    "            nn.Conv2d(64, 128, kernel_size=(3,3), stride=(1,1), padding = (1,1)),\n",
    "            nn.ReLU(),\n",
    "            # b 16 16 128 -> 8 8 128 \n",
    "            nn.MaxPool2d(kernel_size = (2,2), stride = (2,2)),\n",
    "            # 8 8 128 -> b 8*8*128 = 8192\n",
    "            Flatten()\n",
    "        )\n",
    "\n",
    "\n",
    "        # b 8192 -> b 50 50\n",
    "        self.fc1 = nn.Linear(8192, 50)\n",
    "        self.fc2 = nn.Linear(8192, 50)\n",
    "        self.fc3 = nn.Linear(50, 1024)\n",
    "        \n",
    "                # Notice that it is not symmetric: it is not necessary to be. \n",
    "        self.decoder = nn.Sequential(\n",
    "            nn.ReLU(),\n",
    "            # b 1024 -> b 16 8 8\n",
    "            Reshape(shape = (16, 8, 8)), \n",
    "            # b 16 8 8 -> b 128 16 16\n",
    "            nn.ConvTranspose2d(16, 128, kernel_size = (3,3), stride = 2, padding = 1, output_padding = 1),\n",
    "            nn.ReLU(),\n",
    "            # b 128 16 16 -> b 64 32 32\n",
    "            nn.ConvTranspose2d(128, 64, kernel_size = (5,5), stride = 2, padding = 2, output_padding = 1),\n",
    "            nn.ReLU(),\n",
    "            # b 64 32 32 -> b 32 64 64\n",
    "            nn.ConvTranspose2d(64, 32, kernel_size = (11,11), stride = 2, padding = 5, output_padding = 1),\n",
    "            nn.ReLU(),\n",
    "            # b 32 64 64 -> b 1 64 64 \n",
    "            nn.ConvTranspose2d(32, 1, kernel_size = (3,3), stride = 1, padding = 1, output_padding = 0),\n",
    "            nn.Sigmoid(),\n",
    "        )\n",
    "    \n",
    "    \n",
    "        \"\"\"\n",
    "        \n",
    "\n",
    "        self.encoder = nn.Sequential(\n",
    "            nn.Linear(28*28, 512),\n",
    "            nn.ReLU(),\n",
    "            nn.Linear(512, 512),\n",
    "            nn.ReLU(),\n",
    "            nn.Linear(512, 256),\n",
    "            nn.ReLU(),\n",
    "            nn.Linear(256, 128),\n",
    "            nn.ReLU(),\n",
    "        )\n",
    "\n",
    "        self.fc1 = nn.Linear(128, 20)\n",
    "        self.fc2 = nn.Linear(128, 20)\n",
    "        self.fc3 = nn.Linear(20, 128)\n",
    "\n",
    "        self.decoder = nn.Sequential(\n",
    "            nn.Linear(128, 256),\n",
    "            nn.ReLU(),\n",
    "            nn.Linear(256, 512),\n",
    "            nn.ReLU(),\n",
    "            nn.Linear(512, 512),\n",
    "            nn.ReLU(),\n",
    "            nn.Linear(512, 28*28),\n",
    "            nn.Sigmoid(),\n",
    "        )\n",
    "\n",
    "    \n",
    "    def reparameterize(self, mu, logvar):\n",
    "        std = torch.exp(0.5*logvar) #std = logvar.mul(0.5).exp_() \n",
    "        eps = torch.randn_like(mu)\n",
    "        z = mu + std * eps\n",
    "        return z\n",
    "\n",
    "\n",
    "    def bottleneck(self, h):\n",
    "        mu, logvar = self.fc1(h), self.fc2(h)\n",
    "        z = self.reparameterize(mu, logvar)\n",
    "        return z, mu, logvar\n",
    "        \n",
    "    def representation(self, x):\n",
    "        return self.bottleneck(self.encoder(x))[0]\n",
    "\n",
    "\n",
    "    def forward(self, x):\n",
    "        h = self.encoder(x)\n",
    "        z, mu, logvar = self.bottleneck(h)\n",
    "        z = self.fc3(z)\n",
    "        return self.decoder(z), mu, logvar\n",
    "\n",
    "\n",
    "    def load_my_state_dict(self, state_dict):\n",
    "        own_state = self.state_dict()\n",
    "        for name, param in state_dict.items():\n",
    "            if name not in own_state:\n",
    "                print('Not in model from file', name) \n",
    "                continue #I rarely use this. \n",
    "            param = param.data\n",
    "            print(name+ ' is loaded. ')\n",
    "            own_state[name].copy_(param)\n",
    "        for name, param in own_state.items():\n",
    "            if name not in state_dict:\n",
    "                print('Not in model from model', name)\n",
    "        return own_state\n",
    "\n",
    "\n",
    "# Loss\n",
    "def vae_loss(image, reconstruction, mu, logvar):\n",
    "    \"\"\"Loss for the Variational AutoEncoder.\"\"\"\n",
    "    # Binary Cross Entropy for batch\n",
    "    BCE = functional.binary_cross_entropy(input=reconstruction.view(-1, 28*28), target = image.view(-1, 28*28),reduction='sum')\n",
    "    # Closed-form KL Divergencet\n",
    "    KLD = - 0.5 * torch.sum(1 + logvar - mu.pow(2) - logvar.exp())\n",
    "    return BCE + KLD\n",
    "\n",
    "\n",
    "def complete_loss(image, reconstruction, mu, logvar):\n",
    "    return vae_loss(image, reconstruction, mu, logvar)\n",
    "\n",
    "\n",
    "torch.manual_seed(20) # randomly picked. \n",
    "vae_torch = VAE()\n",
    "if torch.cuda.is_available():\n",
    "    vae_torch.cuda()\n"
   ]
  },
  {
   "cell_type": "code",
   "execution_count": 6,
   "metadata": {},
   "outputs": [
    {
     "name": "stderr",
     "output_type": "stream",
     "text": [
      "  0%|          | 0/20 [00:00<?, ?it/s]C:\\ProgramData\\Anaconda3\\envs\\dms\\lib\\site-packages\\ipykernel_launcher.py:20: DeprecationWarning: `np.int` is a deprecated alias for the builtin `int`. To silence this warning, use `int` by itself. Doing this will not modify any behavior and is safe. When replacing `np.int`, you may wish to use e.g. `np.int64` or `np.int32` to specify the precision. If you wish to review your current use, check the release note link for additional information.\n",
      "Deprecated in NumPy 1.20; for more details and guidance: https://numpy.org/devdocs/release/1.20.0-notes.html#deprecations\n",
      "C:\\ProgramData\\Anaconda3\\envs\\dms\\lib\\site-packages\\ipykernel_launcher.py:22: DeprecationWarning: `np.float` is a deprecated alias for the builtin `float`. To silence this warning, use `float` by itself. Doing this will not modify any behavior and is safe. If you specifically wanted the numpy scalar type, use `np.float64` here.\n",
      "Deprecated in NumPy 1.20; for more details and guidance: https://numpy.org/devdocs/release/1.20.0-notes.html#deprecations\n"
     ]
    },
    {
     "name": "stdout",
     "output_type": "stream",
     "text": [
      "tensor(-2.2115e+08, device='cuda:0', grad_fn=<AddBackward0>)\n"
     ]
    },
    {
     "name": "stderr",
     "output_type": "stream",
     "text": [
      "  5%|▌         | 1/20 [00:04<01:21,  4.26s/it]"
     ]
    },
    {
     "name": "stdout",
     "output_type": "stream",
     "text": [
      "tensor(-2.2157e+08, device='cuda:0', grad_fn=<AddBackward0>)\n"
     ]
    },
    {
     "name": "stderr",
     "output_type": "stream",
     "text": [
      " 10%|█         | 2/20 [00:06<01:08,  3.80s/it]"
     ]
    },
    {
     "name": "stdout",
     "output_type": "stream",
     "text": [
      "tensor(-2.2167e+08, device='cuda:0', grad_fn=<AddBackward0>)\n"
     ]
    },
    {
     "name": "stderr",
     "output_type": "stream",
     "text": [
      " 15%|█▌        | 3/20 [00:09<00:59,  3.49s/it]"
     ]
    },
    {
     "name": "stdout",
     "output_type": "stream",
     "text": [
      "tensor(-2.2192e+08, device='cuda:0', grad_fn=<AddBackward0>)\n"
     ]
    },
    {
     "name": "stderr",
     "output_type": "stream",
     "text": [
      " 20%|██        | 4/20 [00:12<00:52,  3.27s/it]"
     ]
    },
    {
     "name": "stdout",
     "output_type": "stream",
     "text": [
      "tensor(-2.2203e+08, device='cuda:0', grad_fn=<AddBackward0>)\n"
     ]
    },
    {
     "name": "stderr",
     "output_type": "stream",
     "text": [
      " 25%|██▌       | 5/20 [00:15<00:46,  3.12s/it]"
     ]
    },
    {
     "name": "stdout",
     "output_type": "stream",
     "text": [
      "tensor(-2.2219e+08, device='cuda:0', grad_fn=<AddBackward0>)\n"
     ]
    },
    {
     "name": "stderr",
     "output_type": "stream",
     "text": [
      " 30%|███       | 6/20 [00:17<00:41,  3.00s/it]"
     ]
    },
    {
     "name": "stdout",
     "output_type": "stream",
     "text": [
      "tensor(-2.2228e+08, device='cuda:0', grad_fn=<AddBackward0>)\n"
     ]
    },
    {
     "name": "stderr",
     "output_type": "stream",
     "text": [
      " 35%|███▌      | 7/20 [00:20<00:37,  2.92s/it]"
     ]
    },
    {
     "name": "stdout",
     "output_type": "stream",
     "text": [
      "tensor(-2.2232e+08, device='cuda:0', grad_fn=<AddBackward0>)\n"
     ]
    },
    {
     "name": "stderr",
     "output_type": "stream",
     "text": [
      " 40%|████      | 8/20 [00:23<00:34,  2.86s/it]"
     ]
    },
    {
     "name": "stdout",
     "output_type": "stream",
     "text": [
      "tensor(-2.2237e+08, device='cuda:0', grad_fn=<AddBackward0>)\n"
     ]
    },
    {
     "name": "stderr",
     "output_type": "stream",
     "text": [
      " 45%|████▌     | 9/20 [00:26<00:31,  2.83s/it]"
     ]
    },
    {
     "name": "stdout",
     "output_type": "stream",
     "text": [
      "tensor(-2.2222e+08, device='cuda:0', grad_fn=<AddBackward0>)\n"
     ]
    },
    {
     "name": "stderr",
     "output_type": "stream",
     "text": [
      " 50%|█████     | 10/20 [00:28<00:28,  2.80s/it]"
     ]
    },
    {
     "name": "stdout",
     "output_type": "stream",
     "text": [
      "tensor(-2.2250e+08, device='cuda:0', grad_fn=<AddBackward0>)\n"
     ]
    },
    {
     "name": "stderr",
     "output_type": "stream",
     "text": [
      " 55%|█████▌    | 11/20 [00:31<00:24,  2.77s/it]"
     ]
    },
    {
     "name": "stdout",
     "output_type": "stream",
     "text": [
      "tensor(-2.2250e+08, device='cuda:0', grad_fn=<AddBackward0>)\n"
     ]
    },
    {
     "name": "stderr",
     "output_type": "stream",
     "text": [
      " 60%|██████    | 12/20 [00:34<00:22,  2.76s/it]"
     ]
    },
    {
     "name": "stdout",
     "output_type": "stream",
     "text": [
      "tensor(-2.2273e+08, device='cuda:0', grad_fn=<AddBackward0>)\n"
     ]
    },
    {
     "name": "stderr",
     "output_type": "stream",
     "text": [
      " 65%|██████▌   | 13/20 [00:37<00:19,  2.74s/it]"
     ]
    },
    {
     "name": "stdout",
     "output_type": "stream",
     "text": [
      "tensor(-2.2283e+08, device='cuda:0', grad_fn=<AddBackward0>)\n"
     ]
    },
    {
     "name": "stderr",
     "output_type": "stream",
     "text": [
      " 70%|███████   | 14/20 [00:39<00:16,  2.75s/it]"
     ]
    },
    {
     "name": "stdout",
     "output_type": "stream",
     "text": [
      "tensor(-2.2298e+08, device='cuda:0', grad_fn=<AddBackward0>)\n"
     ]
    },
    {
     "name": "stderr",
     "output_type": "stream",
     "text": [
      " 75%|███████▌  | 15/20 [00:42<00:13,  2.76s/it]"
     ]
    },
    {
     "name": "stdout",
     "output_type": "stream",
     "text": [
      "tensor(-2.2293e+08, device='cuda:0', grad_fn=<AddBackward0>)\n"
     ]
    },
    {
     "name": "stderr",
     "output_type": "stream",
     "text": [
      " 80%|████████  | 16/20 [00:45<00:10,  2.75s/it]"
     ]
    },
    {
     "name": "stdout",
     "output_type": "stream",
     "text": [
      "tensor(-2.2283e+08, device='cuda:0', grad_fn=<AddBackward0>)\n"
     ]
    },
    {
     "name": "stderr",
     "output_type": "stream",
     "text": [
      " 85%|████████▌ | 17/20 [00:48<00:08,  2.75s/it]"
     ]
    },
    {
     "name": "stdout",
     "output_type": "stream",
     "text": [
      "tensor(-2.2296e+08, device='cuda:0', grad_fn=<AddBackward0>)\n"
     ]
    },
    {
     "name": "stderr",
     "output_type": "stream",
     "text": [
      " 90%|█████████ | 18/20 [00:50<00:05,  2.74s/it]"
     ]
    },
    {
     "name": "stdout",
     "output_type": "stream",
     "text": [
      "tensor(-2.2304e+08, device='cuda:0', grad_fn=<AddBackward0>)\n"
     ]
    },
    {
     "name": "stderr",
     "output_type": "stream",
     "text": [
      " 95%|█████████▌| 19/20 [00:53<00:02,  2.73s/it]"
     ]
    },
    {
     "name": "stdout",
     "output_type": "stream",
     "text": [
      "tensor(-2.2320e+08, device='cuda:0', grad_fn=<AddBackward0>)\n"
     ]
    },
    {
     "name": "stderr",
     "output_type": "stream",
     "text": [
      "100%|██████████| 20/20 [00:56<00:00,  2.81s/it]\n"
     ]
    },
    {
     "data": {
      "text/plain": [
       "[<matplotlib.lines.Line2D at 0x1f9a04b02c8>]"
      ]
     },
     "execution_count": 6,
     "metadata": {},
     "output_type": "execute_result"
    },
    {
     "data": {
      "image/png": "[encoded data removed]",
      "text/plain": [
       "<Figure size 432x288 with 1 Axes>"
      ]
     },
     "metadata": {
      "needs_background": "light"
     },
     "output_type": "display_data"
    }
   ],
   "source": [
    "from tqdm import tqdm\n",
    "\n",
    "losses = []\n",
    "epoches = 20\n",
    "batchsize=100\n",
    "optimizer = torch.optim.Adam(vae_torch.parameters(), lr=1e-3)\n",
    "save_everyEpoch = 5\n",
    "ctr = 0\n",
    "\n",
    "PATHsave = 'example.pth'\n",
    "#vae_torch.load_my_state_dict(torch.load(PATHsave))# load the saved/trained parameters for neural network.\n",
    "\n",
    "# vae_torch(torch.rand(30, 28*28).cuda()) # use this to test whether your network is correctly constructed. \n",
    "images = train_X.reshape(-1, 28*28)     # recast this into arrays. I can do this because this is a dataset that can be easily predicted. \n",
    "labels = train_y.reshape(-1, 1)         # labels\n",
    "\n",
    "for epoch in tqdm(range(epoches)):\n",
    "    ctr = ctr + 1\n",
    "    num_div = images.shape[0]//batchsize \n",
    "    idx_div = np.linspace(start = 0, stop = images.shape[0], num = num_div + 1, dtype = np.int)\n",
    "    for idx in range(num_div): \n",
    "        batch_X = torch.from_numpy(np.array(images[idx_div[idx]: idx_div[idx+1], :], dtype = np.float)).float()\n",
    "        #batch_y = np.array(labels[idx_div[idx]: idx_div[idx+1], :], dtype = np.float)\n",
    "        batch_X = batch_X.to(device)\n",
    "        #batch_y = torch.from_numpy(batch_y).float().to(device)\n",
    "        optimizer.zero_grad()\n",
    "        reconstruction, mu, logvar = vae_torch(batch_X)\n",
    "        loss = vae_loss(batch_X, reconstruction, mu, logvar)\n",
    "        loss.backward()\n",
    "        optimizer.step()\n",
    "        torch.cuda.empty_cache()\n",
    "        losses.append(loss.clone().cpu().detach())\n",
    "        pass\n",
    "    if ctr == save_everyEpoch:\n",
    "        #print(losses)\n",
    "        torch.save(vae_torch.state_dict(), PATHsave)\n",
    "        ctr = 0\n",
    "    \n",
    "    print(loss)\n",
    "\n",
    "\n",
    "\n",
    "plt.plot(list(range(len(losses))), losses)\n",
    "        "
   ]
  },
  {
   "cell_type": "code",
   "execution_count": 7,
   "metadata": {},
   "outputs": [
    {
     "name": "stderr",
     "output_type": "stream",
     "text": [
      "C:\\ProgramData\\Anaconda3\\envs\\dms\\lib\\site-packages\\ipykernel_launcher.py:12: DeprecationWarning: `np.int` is a deprecated alias for the builtin `int`. To silence this warning, use `int` by itself. Doing this will not modify any behavior and is safe. When replacing `np.int`, you may wish to use e.g. `np.int64` or `np.int32` to specify the precision. If you wish to review your current use, check the release note link for additional information.\n",
      "Deprecated in NumPy 1.20; for more details and guidance: https://numpy.org/devdocs/release/1.20.0-notes.html#deprecations\n",
      "  if sys.path[0] == '':\n",
      "C:\\ProgramData\\Anaconda3\\envs\\dms\\lib\\site-packages\\ipykernel_launcher.py:14: DeprecationWarning: `np.float` is a deprecated alias for the builtin `float`. To silence this warning, use `float` by itself. Doing this will not modify any behavior and is safe. If you specifically wanted the numpy scalar type, use `np.float64` here.\n",
      "Deprecated in NumPy 1.20; for more details and guidance: https://numpy.org/devdocs/release/1.20.0-notes.html#deprecations\n",
      "  \n",
      "C:\\ProgramData\\Anaconda3\\envs\\dms\\lib\\site-packages\\ipykernel_launcher.py:19: RuntimeWarning: More than 20 figures have been opened. Figures created through the pyplot interface (`matplotlib.pyplot.figure`) are retained until explicitly closed and may consume too much memory. (To control this warning, see the rcParam `figure.max_open_warning`).\n"
     ]
    },
    {
     "data": {
      "image/png": "[encoded data removed]",
      "text/plain": [
       "<Figure size 432x288 with 4 Axes>"
      ]
     },
     "metadata": {
      "needs_background": "light"
     },
     "output_type": "display_data"
    },
    {
     "data": {
      "image/png": "[encoded data removed]",
      "text/plain": [
       "<Figure size 432x288 with 4 Axes>"
      ]
     },
     "metadata": {
      "needs_background": "light"
     },
     "output_type": "display_data"
    },
    {
     "data": {
      "image/png": "[encoded data removed]",
      "text/plain": [
       "<Figure size 432x288 with 4 Axes>"
      ]
     },
     "metadata": {
      "needs_background": "light"
     },
     "output_type": "display_data"
    },
    {
     "data": {
      "image/png": "[encoded data removed]",
      "text/plain": [
       "<Figure size 432x288 with 4 Axes>"
      ]
     },
     "metadata": {
      "needs_background": "light"
     },
     "output_type": "display_data"
    },
    {
     "data": {
      "image/png": "[encoded data removed]",
      "text/plain": [
       "<Figure size 432x288 with 4 Axes>"
      ]
     },
     "metadata": {
      "needs_background": "light"
     },
     "output_type": "display_data"
    },
    {
     "data": {
      "image/png": "[encoded data removed]",
      "text/plain": [
       "<Figure size 432x288 with 4 Axes>"
      ]
     },
     "metadata": {
      "needs_background": "light"
     },
     "output_type": "display_data"
    },
    {
     "data": {
      "image/png": "[encoded data removed]",
      "text/plain": [
       "<Figure size 432x288 with 4 Axes>"
      ]
     },
     "metadata": {
      "needs_background": "light"
     },
     "output_type": "display_data"
    },
    {
     "data": {
      "image/png": "[encoded data removed]",
      "text/plain": [
       "<Figure size 432x288 with 4 Axes>"
      ]
     },
     "metadata": {
      "needs_background": "light"
     },
     "output_type": "display_data"
    },
    {
     "data": {
      "image/png": "[encoded data removed]",
      "text/plain": [
       "<Figure size 432x288 with 4 Axes>"
      ]
     },
     "metadata": {
      "needs_background": "light"
     },
     "output_type": "display_data"
    },
    {
     "data": {
      "image/png": "[encoded data removed]",
      "text/plain": [
       "<Figure size 432x288 with 4 Axes>"
      ]
     },
     "metadata": {
      "needs_background": "light"
     },
     "output_type": "display_data"
    },
    {
     "data": {
      "image/png": "[encoded data removed]",
      "text/plain": [
       "<Figure size 432x288 with 4 Axes>"
      ]
     },
     "metadata": {
      "needs_background": "light"
     },
     "output_type": "display_data"
    },
    {
     "data": {
      "image/png": "[encoded data removed]",
      "text/plain": [
       "<Figure size 432x288 with 4 Axes>"
      ]
     },
     "metadata": {
      "needs_background": "light"
     },
     "output_type": "display_data"
    },
    {
     "data": {
      "image/png": "[encoded data removed]",
      "text/plain": [
       "<Figure size 432x288 with 4 Axes>"
      ]
     },
     "metadata": {
      "needs_background": "light"
     },
     "output_type": "display_data"
    },
    {
     "data": {
      "image/png": "[encoded data removed]",
      "text/plain": [
       "<Figure size 432x288 with 4 Axes>"
      ]
     },
     "metadata": {
      "needs_background": "light"
     },
     "output_type": "display_data"
    },
    {
     "data": {
      "image/png": "[encoded data removed]",
      "text/plain": [
       "<Figure size 432x288 with 4 Axes>"
      ]
     },
     "metadata": {
      "needs_background": "light"
     },
     "output_type": "display_data"
    },
    {
     "data": {
      "image/png": "[encoded data removed]",
      "text/plain": [
       "<Figure size 432x288 with 4 Axes>"
      ]
     },
     "metadata": {
      "needs_background": "light"
     },
     "output_type": "display_data"
    },
    {
     "data": {
      "image/png": "[encoded data removed]",
      "text/plain": [
       "<Figure size 432x288 with 4 Axes>"
      ]
     },
     "metadata": {
      "needs_background": "light"
     },
     "output_type": "display_data"
    },
    {
     "data": {
      "image/png": "[encoded data removed]",
      "text/plain": [
       "<Figure size 432x288 with 4 Axes>"
      ]
     },
     "metadata": {
      "needs_background": "light"
     },
     "output_type": "display_data"
    },
    {
     "data": {
      "image/png": "[encoded data removed]",
      "text/plain": [
       "<Figure size 432x288 with 4 Axes>"
      ]
     },
     "metadata": {
      "needs_background": "light"
     },
     "output_type": "display_data"
    },
    {
     "data": {
      "image/png": "[encoded data removed]",
      "text/plain": [
       "<Figure size 432x288 with 4 Axes>"
      ]
     },
     "metadata": {
      "needs_background": "light"
     },
     "output_type": "display_data"
    },
    {
     "data": {
      "image/png": "[encoded data removed]",
      "text/plain": [
       "<Figure size 432x288 with 4 Axes>"
      ]
     },
     "metadata": {
      "needs_background": "light"
     },
     "output_type": "display_data"
    },
    {
     "data": {
      "image/png": "[encoded data removed]",
      "text/plain": [
       "<Figure size 432x288 with 4 Axes>"
      ]
     },
     "metadata": {
      "needs_background": "light"
     },
     "output_type": "display_data"
    },
    {
     "data": {
      "image/png": "[encoded data removed]",
      "text/plain": [
       "<Figure size 432x288 with 4 Axes>"
      ]
     },
     "metadata": {
      "needs_background": "light"
     },
     "output_type": "display_data"
    },
    {
     "data": {
      "image/png": "[encoded data removed]",
      "text/plain": [
       "<Figure size 432x288 with 4 Axes>"
      ]
     },
     "metadata": {
      "needs_background": "light"
     },
     "output_type": "display_data"
    },
    {
     "data": {
      "image/png": "[encoded data removed]",
      "text/plain": [
       "<Figure size 432x288 with 4 Axes>"
      ]
     },
     "metadata": {
      "needs_background": "light"
     },
     "output_type": "display_data"
    }
   ],
   "source": [
    "images = test_X.reshape(-1, 28*28)     # recast this into arrays. I can do this because this is a dataset that can be easily predicted. \n",
    "labels = test_y.reshape(-1, 1)         # labels\n",
    "\n",
    "losses = []\n",
    "batchsize=400\n",
    "ctr = 0\n",
    "\n",
    "reconstructions = []\n",
    "with torch.no_grad():\n",
    "    ctr = ctr + 1\n",
    "    num_div = images.shape[0]//batchsize \n",
    "    idx_div = np.linspace(start = 0, stop = images.shape[0], num = num_div + 1, dtype = np.int)\n",
    "    for idx in range(num_div): \n",
    "        batch_X = np.array(images[idx_div[idx]: idx_div[idx+1], :], dtype = np.float)\n",
    "        batch_X = torch.from_numpy(batch_X).float().to(device)\n",
    "        reconstruction, mu, logvar = vae_torch(batch_X)\n",
    "        loss = complete_loss(batch_X , reconstruction, mu, logvar)\n",
    "        losses.append(loss.clone().cpu().detach())\n",
    "        fig, ax = plt.subplots(1,4)\n",
    "        temp = reconstruction.clone().cpu().detach()\n",
    "        ax[0].imshow(batch_X[0,:].cpu().reshape((28,28)))\n",
    "        ax[1].imshow(temp[0,:].reshape((28,28)))\n",
    "        ax[2].imshow(batch_X[1,:].cpu().reshape((28,28)))\n",
    "        ax[3].imshow(temp[1,:].reshape((28,28)))\n",
    "        torch.cuda.empty_cache()\n",
    "        #reconstructions.append(reconstruction.clone().cpu().detach())\n",
    "\n",
    "\n",
    "#reconstructions = np.concatenate(reconstructions, axis = 0)\n"
   ]
  }
 ],
 "metadata": {
  "kernelspec": {
   "display_name": "Python 3",
   "language": "python",
   "name": "python3"
  },
  "language_info": {
   "codemirror_mode": {
    "name": "ipython",
    "version": 3
   },
   "file_extension": ".py",
   "mimetype": "text/x-python",
   "name": "python",
   "nbconvert_exporter": "python",
   "pygments_lexer": "ipython3",
   "version": "3.7.9"
  }
 },
 "nbformat": 4,
 "nbformat_minor": 4
}
